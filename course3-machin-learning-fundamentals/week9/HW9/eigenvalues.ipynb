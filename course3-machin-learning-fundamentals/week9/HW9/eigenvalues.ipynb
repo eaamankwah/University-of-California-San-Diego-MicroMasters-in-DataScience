{
 "cells": [
  {
   "cell_type": "code",
   "execution_count": 2,
   "metadata": {},
   "outputs": [
    {
     "name": "stdout",
     "output_type": "stream",
     "text": [
      "A\n",
      " [[ 5 -3  0]\n",
      " [-3  5  0]\n",
      " [ 0  0  4]]\n",
      "Eigenvalues [8. 2. 4.]\n"
     ]
    }
   ],
   "source": [
    "import numpy as np\n",
    "\n",
    "A = np.mat(\"5 -3 0;-3 5 0;0 0 4\")\n",
    "print (\"A\\n\", A)\n",
    "\n",
    "print (\"Eigenvalues\", np.linalg.eigvals(A))\n",
    "\n",
    "\n",
    "\n"
   ]
  },
  {
   "cell_type": "code",
   "execution_count": 4,
   "metadata": {},
   "outputs": [
    {
     "name": "stdout",
     "output_type": "stream",
     "text": [
      "First tuple of eig [8. 2. 4.]\n",
      "Second tuple of eig\n",
      " [[ 0.70710678  0.70710678  0.        ]\n",
      " [-0.70710678  0.70710678  0.        ]\n",
      " [ 0.          0.          1.        ]]\n"
     ]
    }
   ],
   "source": [
    "eigenvalues, eigenvectors = np.linalg.eig(A)\n",
    "print (\"First tuple of eig\", eigenvalues)\n",
    "print (\"Second tuple of eig\\n\", eigenvectors)\n",
    "\n",
    "\n"
   ]
  },
  {
   "cell_type": "code",
   "execution_count": 5,
   "metadata": {},
   "outputs": [
    {
     "name": "stdout",
     "output_type": "stream",
     "text": [
      "[[ 1.         -0.95918367 -0.14285714]\n",
      " [-0.95918367  1.         -0.14285714]\n",
      " [-0.14285714 -0.14285714  1.        ]]\n"
     ]
    }
   ],
   "source": [
    "a = np.array([ [5, -3, 0], [-3, 5, 0], [0,   0,  4]]) \n",
    "b = np.corrcoef(a)\n",
    "print (b)"
   ]
  },
  {
   "cell_type": "code",
   "execution_count": null,
   "metadata": {},
   "outputs": [],
   "source": []
  }
 ],
 "metadata": {
  "kernelspec": {
   "display_name": "Python 3",
   "language": "python",
   "name": "python3"
  },
  "language_info": {
   "codemirror_mode": {
    "name": "ipython",
    "version": 3
   },
   "file_extension": ".py",
   "mimetype": "text/x-python",
   "name": "python",
   "nbconvert_exporter": "python",
   "pygments_lexer": "ipython3",
   "version": "3.6.4"
  }
 },
 "nbformat": 4,
 "nbformat_minor": 2
}
