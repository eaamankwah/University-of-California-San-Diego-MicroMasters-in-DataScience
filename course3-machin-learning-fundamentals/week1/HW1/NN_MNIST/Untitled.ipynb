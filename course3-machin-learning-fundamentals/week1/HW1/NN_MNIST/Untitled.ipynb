{
 "cells": [
  {
   "cell_type": "code",
   "execution_count": 10,
   "metadata": {},
   "outputs": [
    {
     "name": "stdout",
     "output_type": "stream",
     "text": [
      "0\n"
     ]
    }
   ],
   "source": [
    "import random\n",
    "\n",
    "def seq_sum(n):\n",
    "    \"\"\" input: n, generate a sequence of n random coin flips\n",
    "        output: return the number of heads \n",
    "        Hint: For simplicity, use 1,0 to represent head,tails\n",
    "    \"\"\"\n",
    "    heads, tails = 0, 0\n",
    "    for r in range(n):\n",
    "        flip = random.randint(0,1)\n",
    "        if(flip == 1):\n",
    "            heads += 1\n",
    "        else:\n",
    "            tails += 1\n",
    "        return heads\n",
    "\n",
    "seq_sum(5)\n",
    "\n",
    "\n",
    "def estimate_prob(n,k1,k2,m):\n",
    "    prob, index, results = 0, 0, 0\n",
    "    for x in range(m):\n",
    "        if( k1 <= seq_sum(n) < k2):\n",
    "            results = seq_sum(n)\n",
    "            prob = float(results/m)  \n",
    "    return prob\n",
    "                \n",
    "\n",
    "x = estimate_prob(100,45,55,1000)\n",
    "print (x)\n",
    "#assert 'float' in str(type(x))\n",
    "\n"
   ]
  },
  {
   "cell_type": "code",
   "execution_count": null,
   "metadata": {},
   "outputs": [],
   "source": []
  },
  {
   "cell_type": "code",
   "execution_count": null,
   "metadata": {},
   "outputs": [],
   "source": []
  }
 ],
 "metadata": {
  "kernelspec": {
   "display_name": "Python 3",
   "language": "python",
   "name": "python3"
  },
  "language_info": {
   "codemirror_mode": {
    "name": "ipython",
    "version": 3
   },
   "file_extension": ".py",
   "mimetype": "text/x-python",
   "name": "python",
   "nbconvert_exporter": "python",
   "pygments_lexer": "ipython3",
   "version": "3.6.3"
  }
 },
 "nbformat": 4,
 "nbformat_minor": 2
}
