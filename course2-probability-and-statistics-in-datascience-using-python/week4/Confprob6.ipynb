{
 "cells": [
  {
   "cell_type": "code",
   "execution_count": 3,
   "metadata": {},
   "outputs": [
    {
     "name": "stdout",
     "output_type": "stream",
     "text": [
      "0.6666666666666666\n"
     ]
    }
   ],
   "source": [
    "def conditional_probability(rA, wA, rB, wB):\n",
    "    pA = 0.5\n",
    "    pB = 0.5\n",
    "    pwa = wA/(rA + wA)\n",
    "    pwb = wB/(rB + wB)\n",
    "    pw = pwa *pA + pwb*pB\n",
    "    paw = pA*pwa/pw\n",
    "    return paw\n",
    "print (conditional_probability(1.0, 2.0, 2.0, 1.0))\n",
    "    "
   ]
  },
  {
   "cell_type": "code",
   "execution_count": null,
   "metadata": {},
   "outputs": [],
   "source": []
  }
 ],
 "metadata": {
  "kernelspec": {
   "display_name": "Python 3",
   "language": "python",
   "name": "python3"
  },
  "language_info": {
   "codemirror_mode": {
    "name": "ipython",
    "version": 3
   },
   "file_extension": ".py",
   "mimetype": "text/x-python",
   "name": "python",
   "nbconvert_exporter": "python",
   "pygments_lexer": "ipython3",
   "version": "3.6.3"
  }
 },
 "nbformat": 4,
 "nbformat_minor": 2
}
