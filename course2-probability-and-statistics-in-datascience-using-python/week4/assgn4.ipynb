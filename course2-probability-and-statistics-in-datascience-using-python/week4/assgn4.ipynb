{
 "cells": [
  {
   "cell_type": "code",
   "execution_count": 74,
   "metadata": {},
   "outputs": [
    {
     "name": "stdout",
     "output_type": "stream",
     "text": [
      "{(1, 2, 4), (1, 3, 3), (1, 4, 2)}\n"
     ]
    }
   ],
   "source": [
    "def constrained_compositions(n, m):\n",
    "    # inputs: n is of type 'int' and m is a list of integers\n",
    "    # output: a set of tuples\n",
    "    k = len(m)\n",
    "    parts = set()\n",
    "    if k == n:\n",
    "        if 1 <= min(m):\n",
    "            parts.add((1,)*n)\n",
    "    if k == 1:\n",
    "        if n <= m[0]:\n",
    "            parts.add((n,))\n",
    "    else:\n",
    "        for x in range(1, min(n-k+2,m[0]+1)):\n",
    "            for y in constrained_compositions(n-x, m[1:]):\n",
    "                parts.add((x,)+y)\n",
    "    return parts\n",
    "print (constrained_compositions(7, [1, 4, 4]))"
   ]
  },
  {
   "cell_type": "code",
   "execution_count": null,
   "metadata": {},
   "outputs": [],
   "source": []
  },
  {
   "cell_type": "code",
   "execution_count": 75,
   "metadata": {},
   "outputs": [
    {
     "name": "stdout",
     "output_type": "stream",
     "text": [
      "(4, 0, 0)\n",
      "(3, 1, 0)\n",
      "(3, 0, 1)\n",
      "(2, 2, 0)\n",
      "(2, 1, 1)\n",
      "(2, 0, 2)\n",
      "(1, 3, 0)\n",
      "(1, 2, 1)\n",
      "(1, 1, 2)\n",
      "(1, 0, 3)\n",
      "(0, 4, 0)\n",
      "(0, 3, 1)\n",
      "(0, 2, 2)\n",
      "(0, 1, 3)\n",
      "(0, 0, 4)\n"
     ]
    }
   ],
   "source": [
    "def weak_compositions(boxes, balls, parent=tuple()):\n",
    "  if boxes > 1:\n",
    "    for i in range(balls + 1):\n",
    "      for x in weak_compositions(boxes - 1, i, parent + (balls - i,)):\n",
    "        yield x\n",
    "  else:\n",
    "    yield parent + (balls,)\n",
    "    \n",
    "for x in weak_compositions(3, 4): print (x)    "
   ]
  },
  {
   "cell_type": "code",
   "execution_count": null,
   "metadata": {
    "collapsed": true
   },
   "outputs": [],
   "source": []
  },
  {
   "cell_type": "code",
   "execution_count": 76,
   "metadata": {},
   "outputs": [
    {
     "name": "stdout",
     "output_type": "stream",
     "text": [
      "(2, 1, 1)\n",
      "(1, 2, 1)\n",
      "(1, 1, 2)\n"
     ]
    }
   ],
   "source": [
    "def weak_compositions(boxes, balls, parent=tuple()):\n",
    "  if boxes > 1:\n",
    "    for i in range(balls + 1):\n",
    "      for x in weak_compositions(boxes - 1, i, parent + (balls - i,)):\n",
    "        if 0 not in x:\n",
    "            yield x\n",
    "  else:\n",
    "    yield parent + (balls,)\n",
    "    \n",
    "for x in weak_compositions(3, 4): print (x)    "
   ]
  },
  {
   "cell_type": "code",
   "execution_count": null,
   "metadata": {
    "collapsed": true
   },
   "outputs": [],
   "source": []
  },
  {
   "cell_type": "code",
   "execution_count": 1,
   "metadata": {},
   "outputs": [
    {
     "name": "stdout",
     "output_type": "stream",
     "text": [
      "(2, 1, 1)\n",
      "(1, 2, 1)\n",
      "(1, 1, 2)\n"
     ]
    }
   ],
   "source": [
    "def weak_compositions(k, n, parent=tuple()):\n",
    "  if k > 1:\n",
    "    for i in range(n + 1):\n",
    "      for x in weak_compositions(k - 1, i, parent + (n - i,)):\n",
    "        if 0 not in x:\n",
    "            yield x\n",
    "  else:\n",
    "    yield parent + (n,)\n",
    "    \n",
    "for x in weak_compositions(3, 4): print (x)    "
   ]
  },
  {
   "cell_type": "code",
   "execution_count": 3,
   "metadata": {},
   "outputs": [
    {
     "name": "stdout",
     "output_type": "stream",
     "text": [
      "(7, 1)\n",
      "(6, 2)\n",
      "(5, 3)\n",
      "(4, 4)\n",
      "(3, 5)\n",
      "(2, 6)\n",
      "(1, 7)\n"
     ]
    }
   ],
   "source": [
    "def compositions(k, n):\n",
    "    def weak_compositions(k, n, parent=tuple()):\n",
    "        if k > 1:\n",
    "            for i in range(n + 1):\n",
    "                for x in weak_compositions(k - 1, i, parent + (n - i,)):\n",
    "                    if 0 not in x:\n",
    "                        yield x\n",
    "        else:\n",
    "            yield parent + (n,)\n",
    "    \n",
    "for x in weak_compositions(2, 8): print (x)\n",
    "   \n",
    "   "
   ]
  },
  {
   "cell_type": "code",
   "execution_count": null,
   "metadata": {
    "collapsed": true
   },
   "outputs": [],
   "source": []
  },
  {
   "cell_type": "code",
   "execution_count": 81,
   "metadata": {},
   "outputs": [
    {
     "name": "stdout",
     "output_type": "stream",
     "text": [
      "[3, 0, 0, 0]\n",
      "[2, 1, 0, 0]\n",
      "[1, 2, 0, 0]\n",
      "[0, 3, 0, 0]\n",
      "[2, 0, 1, 0]\n",
      "[1, 1, 1, 0]\n",
      "[0, 2, 1, 0]\n",
      "[1, 0, 2, 0]\n",
      "[0, 1, 2, 0]\n",
      "[0, 0, 3, 0]\n",
      "[2, 0, 0, 1]\n",
      "[1, 1, 0, 1]\n",
      "[0, 2, 0, 1]\n",
      "[1, 0, 1, 1]\n",
      "[0, 1, 1, 1]\n",
      "[0, 0, 2, 1]\n",
      "[1, 0, 0, 2]\n",
      "[0, 1, 0, 2]\n",
      "[0, 0, 1, 2]\n",
      "[0, 0, 0, 3]\n"
     ]
    }
   ],
   "source": [
    "def all(n,k):\n",
    "    t = n\n",
    "    h = 0\n",
    "    a = [0]*k\n",
    "    a[0] = n  \n",
    "    yield list(a)\n",
    "    while a[k-1] != n:\n",
    "        if t != 1:\n",
    "            h = 0\n",
    "        t = a[h]\n",
    "        a[h] = 0\n",
    "        a[0] = t-1\n",
    "        a[h+1] += 1\n",
    "        h += 1\n",
    "        yield list(a)\n",
    "for x in all(3, 4):\n",
    "    print (x)"
   ]
  },
  {
   "cell_type": "code",
   "execution_count": 7,
   "metadata": {},
   "outputs": [
    {
     "name": "stdout",
     "output_type": "stream",
     "text": [
      "4\n"
     ]
    }
   ],
   "source": [
    "def binomial2(n,k):\n",
    "   \"\"\"Compute n factorial by an additive method.\"\"\"\n",
    "   if k > n-k: k = n-k  # Use symmetry of Pascal's triangle\n",
    "   thediag = [i+1 for i in range(k+1)]\n",
    "   for i in range(n-k-1):\n",
    "      for j in range(1,k+1):\n",
    "         thediag[j] += thediag[j-1]\n",
    "   return thediag[k]\n",
    "print (binomial2(4, 3))"
   ]
  },
  {
   "cell_type": "code",
   "execution_count": null,
   "metadata": {
    "collapsed": true
   },
   "outputs": [],
   "source": []
  },
  {
   "cell_type": "code",
   "execution_count": 93,
   "metadata": {},
   "outputs": [
    {
     "name": "stdout",
     "output_type": "stream",
     "text": [
      "(2, 1, 1)\n",
      "(1, 2, 1)\n",
      "(1, 1, 2)\n"
     ]
    }
   ],
   "source": [
    "def weak_compositions(k, n, parent=tuple()):\n",
    "  if k > 1:\n",
    "    for i in range(n + 1):\n",
    "      for x in weak_compositions(k - 1, i, parent + (n - i,)):\n",
    "        if 0 not in x:\n",
    "            yield x\n",
    "  else:\n",
    "    yield parent + (n,)\n",
    "    \n",
    "for x in weak_compositions(3, 4): print (x)    "
   ]
  },
  {
   "cell_type": "code",
   "execution_count": null,
   "metadata": {
    "collapsed": true
   },
   "outputs": [],
   "source": [
    " think your method is correct. You should check your for loop, making sure the range is correct. \n",
    "    For solving this problem, I first create a variable to store the experiment results. Then \n",
    "    I write a for loop to run the flipping coin experiments m times. The last step is to create \n",
    "    a index for k1 <= seq_sum(n) < k2, summing the index and dividing it by m. I use float() \n",
    "    on the sum to make sure the result is a float number."
   ]
  },
  {
   "cell_type": "code",
   "execution_count": null,
   "metadata": {},
   "outputs": [],
   "source": []
  }
 ],
 "metadata": {
  "kernelspec": {
   "display_name": "Python 3",
   "language": "python",
   "name": "python3"
  },
  "language_info": {
   "codemirror_mode": {
    "name": "ipython",
    "version": 3
   },
   "file_extension": ".py",
   "mimetype": "text/x-python",
   "name": "python",
   "nbconvert_exporter": "python",
   "pygments_lexer": "ipython3",
   "version": "3.6.3"
  }
 },
 "nbformat": 4,
 "nbformat_minor": 2
}
