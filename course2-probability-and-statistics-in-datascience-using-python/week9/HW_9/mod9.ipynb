{
 "cells": [
  {
   "cell_type": "code",
   "execution_count": 1,
   "metadata": {},
   "outputs": [
    {
     "name": "stdout",
     "output_type": "stream",
     "text": [
      "Populating the interactive namespace from numpy and matplotlib\n"
     ]
    }
   ],
   "source": [
    "%pylab inline\n",
    "from scipy import *\n",
    "from numpy.linalg import norm\n",
    "from math import sqrt,sin,cos\n",
    "import pandas as pd\n",
    "import numpy as np\n",
    "from numpy import arange,array,ones,linalg"
   ]
  },
  {
   "cell_type": "code",
   "execution_count": 2,
   "metadata": {},
   "outputs": [
    {
     "name": "stdout",
     "output_type": "stream",
     "text": [
      "(1000, 2)\n"
     ]
    },
    {
     "data": {
      "text/html": [
       "<div>\n",
       "<style scoped>\n",
       "    .dataframe tbody tr th:only-of-type {\n",
       "        vertical-align: middle;\n",
       "    }\n",
       "\n",
       "    .dataframe tbody tr th {\n",
       "        vertical-align: top;\n",
       "    }\n",
       "\n",
       "    .dataframe thead th {\n",
       "        text-align: right;\n",
       "    }\n",
       "</style>\n",
       "<table border=\"1\" class=\"dataframe\">\n",
       "  <thead>\n",
       "    <tr style=\"text-align: right;\">\n",
       "      <th></th>\n",
       "      <th>study_hours</th>\n",
       "      <th>grades</th>\n",
       "    </tr>\n",
       "  </thead>\n",
       "  <tbody>\n",
       "    <tr>\n",
       "      <th>0</th>\n",
       "      <td>32.143368</td>\n",
       "      <td>75.636962</td>\n",
       "    </tr>\n",
       "    <tr>\n",
       "      <th>1</th>\n",
       "      <td>27.466725</td>\n",
       "      <td>76.932627</td>\n",
       "    </tr>\n",
       "    <tr>\n",
       "      <th>2</th>\n",
       "      <td>21.247638</td>\n",
       "      <td>68.575996</td>\n",
       "    </tr>\n",
       "    <tr>\n",
       "      <th>3</th>\n",
       "      <td>33.726661</td>\n",
       "      <td>81.221442</td>\n",
       "    </tr>\n",
       "    <tr>\n",
       "      <th>4</th>\n",
       "      <td>36.501309</td>\n",
       "      <td>84.787467</td>\n",
       "    </tr>\n",
       "  </tbody>\n",
       "</table>\n",
       "</div>"
      ],
      "text/plain": [
       "   study_hours     grades\n",
       "0    32.143368  75.636962\n",
       "1    27.466725  76.932627\n",
       "2    21.247638  68.575996\n",
       "3    33.726661  81.221442\n",
       "4    36.501309  84.787467"
      ]
     },
     "execution_count": 2,
     "metadata": {},
     "output_type": "execute_result"
    }
   ],
   "source": [
    "data = pd.read_csv('data/hw_regression_data.csv')\n",
    "print (data.shape)\n",
    "data.head()"
   ]
  },
  {
   "cell_type": "code",
   "execution_count": 10,
   "metadata": {},
   "outputs": [
    {
     "name": "stdout",
     "output_type": "stream",
     "text": [
      "                   study_hours     grades\n",
      "round_study_hours                        \n",
      "17.0                 16.889553  58.338329\n",
      "18.0                 17.603374  65.288831\n",
      "19.0                 18.999578  65.433256\n",
      "20.0                 19.852754  64.746281\n",
      "21.0                 21.039703  65.671555\n",
      "22.0                 21.847171  65.258901\n",
      "23.0                 23.071171  68.441699\n",
      "24.0                 24.089766  67.901341\n",
      "25.0                 25.048840  70.610577\n",
      "26.0                 26.105394  69.794460\n",
      "27.0                 27.033111  71.090184\n",
      "28.0                 28.088140  71.726101\n",
      "29.0                 29.001491  72.676676\n",
      "30.0                 29.945201  72.636015\n",
      "31.0                 31.026644  73.982953\n",
      "32.0                 31.946486  74.262442\n",
      "33.0                 33.043752  75.867342\n",
      "34.0                 34.050409  77.007990\n",
      "35.0                 34.992419  77.287141\n",
      "36.0                 36.053515  78.240669\n",
      "37.0                 36.986265  79.823869\n",
      "38.0                 37.975118  79.498097\n",
      "39.0                 38.964449  80.494188\n",
      "40.0                 39.953209  82.256052\n",
      "41.0                 40.944159  81.765407\n",
      "42.0                 42.023247  83.617614\n",
      "43.0                 42.841883  84.622452\n",
      "44.0                 44.053197  84.961637\n",
      "45.0                 44.883363  85.564646\n",
      "46.0                 45.986110  87.692766\n",
      "47.0                 46.977414  86.503366\n",
      "48.0                 47.860474  88.523286\n",
      "49.0                 48.978951  90.166542\n",
      "50.0                 50.005049  90.777400\n",
      "51.0                 50.616985  90.022721\n",
      "52.0                 52.135932  92.972589\n",
      "54.0                 53.617319  91.879630\n",
      "56.0                 56.137653  93.483651\n"
     ]
    },
    {
     "ename": "NameError",
     "evalue": "name 'grades' is not defined",
     "output_type": "error",
     "traceback": [
      "\u001b[0;31m---------------------------------------------------------------------------\u001b[0m",
      "\u001b[0;31mNameError\u001b[0m                                 Traceback (most recent call last)",
      "\u001b[0;32m<ipython-input-10-b0aff769b90d>\u001b[0m in \u001b[0;36m<module>\u001b[0;34m()\u001b[0m\n\u001b[1;32m      8\u001b[0m     \u001b[0;31m#return x\u001b[0m\u001b[0;34m\u001b[0m\u001b[0;34m\u001b[0m\u001b[0m\n\u001b[1;32m      9\u001b[0m \u001b[0mprint\u001b[0m\u001b[0;34m(\u001b[0m\u001b[0mget_averages\u001b[0m\u001b[0;34m(\u001b[0m\u001b[0mdata\u001b[0m\u001b[0;34m)\u001b[0m\u001b[0;34m)\u001b[0m\u001b[0;34m\u001b[0m\u001b[0m\n\u001b[0;32m---> 10\u001b[0;31m \u001b[0mprint\u001b[0m \u001b[0;34m(\u001b[0m\u001b[0mtype\u001b[0m\u001b[0;34m(\u001b[0m \u001b[0mgrades\u001b[0m\u001b[0;34m)\u001b[0m\u001b[0;34m)\u001b[0m\u001b[0;34m\u001b[0m\u001b[0m\n\u001b[0m\u001b[1;32m     11\u001b[0m \u001b[0;31m#print (grades.shape)\u001b[0m\u001b[0;34m\u001b[0m\u001b[0;34m\u001b[0m\u001b[0m\n\u001b[1;32m     12\u001b[0m \u001b[0;31m#print (grades.columns)\u001b[0m\u001b[0;34m\u001b[0m\u001b[0;34m\u001b[0m\u001b[0m\n",
      "\u001b[0;31mNameError\u001b[0m: name 'grades' is not defined"
     ]
    }
   ],
   "source": [
    "def get_averages(data):\n",
    "    # input: the HW's dataset\n",
    "    # output: a pandas dataframe yielding the mean grade for each rounded number data.study_hours = data.study_hours.round()\n",
    "    #data.head()\n",
    "    data['round_study_hours'] = data['study_hours'].round()\n",
    "    data.rename(columns={'study_hours': 'round_study_hours'})\n",
    "    return data.groupby(['round_study_hours']).mean()\n",
    "    #return x\n",
    "print(get_averages(data))\n",
    "print (type( grades))\n",
    "#print (grades.shape)\n",
    "#print (grades.columns) \n",
    "#grades.head()\n",
    "\n"
   ]
  },
  {
   "cell_type": "code",
   "execution_count": null,
   "metadata": {},
   "outputs": [],
   "source": []
  },
  {
   "cell_type": "code",
   "execution_count": 34,
   "metadata": {},
   "outputs": [
    {
     "name": "stdout",
     "output_type": "stream",
     "text": [
      "<class 'numpy.ndarray'>\n",
      "(2,)\n",
      "[48.06947049  0.84009377]\n"
     ]
    },
    {
     "name": "stderr",
     "output_type": "stream",
     "text": [
      "/Applications/anaconda/lib/python3.6/site-packages/ipykernel_launcher.py:8: FutureWarning: `rcond` parameter will change to the default of machine precision times ``max(M, N)`` where M and N are the input matrix dimensions.\n",
      "To use the future default and silence this warning we advise to pass `rcond=None`, to keep using the old, explicitly pass `rcond=-1`.\n",
      "  \n"
     ]
    }
   ],
   "source": [
    "def do_regression(data):\n",
    "    # input: the HW's dataset\n",
    "    # output: a numpy array yielding w=(w0,w1) from linear regression\n",
    "    A=np.array(data['study_hours'])\n",
    "    A=np.array([ones(len(A)),A])\n",
    "    y=np.array(data['grades'])\n",
    "    #A.shape,y.shape\n",
    "    w1 = linalg.lstsq(A.T,y)[0] # finding the optimal parameters\n",
    "    return w1\n",
    "w = do_regression(data)\n",
    "print (type(w))\n",
    "print (w.shape)\n",
    "print (w)\n",
    "\n"
   ]
  },
  {
   "cell_type": "code",
   "execution_count": null,
   "metadata": {},
   "outputs": [],
   "source": []
  },
  {
   "cell_type": "code",
   "execution_count": 35,
   "metadata": {},
   "outputs": [
    {
     "name": "stdout",
     "output_type": "stream",
     "text": [
      "<class 'numpy.ndarray'>\n",
      "(2,)\n",
      "[-31.85141332   0.86337634]\n"
     ]
    },
    {
     "name": "stderr",
     "output_type": "stream",
     "text": [
      "/Applications/anaconda/lib/python3.6/site-packages/ipykernel_launcher.py:8: FutureWarning: `rcond` parameter will change to the default of machine precision times ``max(M, N)`` where M and N are the input matrix dimensions.\n",
      "To use the future default and silence this warning we advise to pass `rcond=None`, to keep using the old, explicitly pass `rcond=-1`.\n",
      "  \n"
     ]
    }
   ],
   "source": [
    "def reverse_regression(data):\n",
    "    # input: the HW's dataset\n",
    "    # output: a numpy array yielding w=(w0,w1) from linear regression\n",
    "    A=np.array(data['grades'])\n",
    "    A=np.array([ones(len(A)),A])\n",
    "    y=np.array(data['study_hours'])\n",
    "    #A.shape,y.shape\n",
    "    w2 = linalg.lstsq(A.T,y)[0] # finding the optimal parameters\n",
    "    return w2\n",
    "w = reverse_regression(data)\n",
    "print (type(w))\n",
    "print (w.shape)\n",
    "print (w)\n",
    "\n"
   ]
  },
  {
   "cell_type": "code",
   "execution_count": null,
   "metadata": {},
   "outputs": [],
   "source": []
  }
 ],
 "metadata": {
  "kernelspec": {
   "display_name": "Python 3",
   "language": "python",
   "name": "python3"
  },
  "language_info": {
   "codemirror_mode": {
    "name": "ipython",
    "version": 3
   },
   "file_extension": ".py",
   "mimetype": "text/x-python",
   "name": "python",
   "nbconvert_exporter": "python",
   "pygments_lexer": "ipython3",
   "version": "3.6.4"
  }
 },
 "nbformat": 4,
 "nbformat_minor": 2
}
