{
 "cells": [
  {
   "cell_type": "code",
   "execution_count": 5,
   "metadata": {},
   "outputs": [],
   "source": [
    "import itertools\n",
    "from itertools import product"
   ]
  },
  {
   "cell_type": "code",
   "execution_count": 6,
   "metadata": {},
   "outputs": [
    {
     "name": "stdout",
     "output_type": "stream",
     "text": [
      "({0, 1, 2, 3, -6}, {4, -10, -9, -8, -7})\n"
     ]
    }
   ],
   "source": [
    "#Exercise 1.1\n",
    "A = {1, 2, 3}\n",
    "B = {3, -6, 2, 0}\n",
    "U = {-10, -9, -8, -7, -6, 0, 1, 2, 3, 4}\n",
    "\n",
    "def complement_of_union(A, B, U):\n",
    "    # inputs: A, B and U are of type 'set'\n",
    "    # output: a tuple of the type (set, set)\n",
    "    c = A | B\n",
    "    d = U - c\n",
    "    return c, d\n",
    "print (complement_of_union (A, B, U))"
   ]
  },
  {
   "cell_type": "code",
   "execution_count": 7,
   "metadata": {},
   "outputs": [
    {
     "name": "stdout",
     "output_type": "stream",
     "text": [
      "({0, 4, -10, -9, -8, -7, -6}, {4, -10, -9, -8, -7})\n"
     ]
    }
   ],
   "source": [
    "# Excercise 1.2 \n",
    "def intersection_of_complements(A, B, U):\n",
    "    # inputs: A, B and U are of type 'set'\n",
    "    # output: a tuple of the form (set, set)\n",
    "    a = (B | U) - A\n",
    "    b = A | B\n",
    "    c = U - b\n",
    "    return a, c\n",
    "print (intersection_of_complements (A, B, U))"
   ]
  },
  {
   "cell_type": "code",
   "execution_count": null,
   "metadata": {
    "collapsed": true
   },
   "outputs": [],
   "source": []
  },
  {
   "cell_type": "code",
   "execution_count": 8,
   "metadata": {},
   "outputs": [
    {
     "name": "stdout",
     "output_type": "stream",
     "text": [
      "({1, 2, 3}, {(3, 0), (3, 10), (2, -1), (3, -1), (2, 10), (2, 0), (1, 10), (1, 0), (1, -1)})\n"
     ]
    }
   ],
   "source": [
    "# Excercise 2.1\n",
    "\n",
    "A = {1, 2}\n",
    "B = {1, 3}\n",
    "S = {-1, 0}\n",
    "T = {0, 10}\n",
    "def product_of_unions(A, B, S, T):\n",
    "    # inputs: A, B, S and T are sets\n",
    "    # output: a tuple of the type (set, set)\n",
    "    a = A | B\n",
    "    b = S | T\n",
    "    c=set()\n",
    "    for x in a:\n",
    "        for y in b:\n",
    "            c.add((x,y))\n",
    "    c\n",
    "    return a, c\n",
    "print (product_of_unions(A, B, S, T))    "
   ]
  },
  {
   "cell_type": "code",
   "execution_count": 10,
   "metadata": {},
   "outputs": [
    {
     "name": "stdout",
     "output_type": "stream",
     "text": [
      "({(2, 0), (1, 0), (2, -1), (1, -1)}, {(3, 0), (3, 10), (2, -1), (3, -1), (2, 10), (2, 0), (1, 10), (1, 0), (1, -1)})\n"
     ]
    }
   ],
   "source": [
    "#Excercise 2.2\n",
    "def union_of_products(A, B, S, T):\n",
    "    # inputs: A, B, S and T are sets\n",
    "    # output: a tuple of the type (set, set)\n",
    "    \n",
    "    # cartesian product of A and S\n",
    "    a = set()\n",
    "    for x in A:\n",
    "        for y in S:\n",
    "            a.add((x,y))\n",
    "    a\n",
    "    # cartesian product of A and T\n",
    "    b = set()\n",
    "    for x in A:\n",
    "        for y in T:\n",
    "            b.add((x,y))\n",
    "    b\n",
    "    # cartesian product of B and S\n",
    "    c = set()\n",
    "    for x in B:\n",
    "        for y in S:\n",
    "            c.add((x,y))\n",
    "    c\n",
    "    # cartesian product of B and T\n",
    "    d = set()\n",
    "    for x in B:\n",
    "        for y in T:\n",
    "            d.add((x,y))\n",
    "    d\n",
    "    # union of a, b, c, and d\n",
    "    e = a | b | c | d\n",
    "    return a, e\n",
    "print (union_of_products(A, B, S, T))\n",
    "    \n",
    "     \n",
    "    "
   ]
  },
  {
   "cell_type": "code",
   "execution_count": null,
   "metadata": {
    "collapsed": true
   },
   "outputs": [],
   "source": []
  }
 ],
 "metadata": {
  "kernelspec": {
   "display_name": "Python 3",
   "language": "python",
   "name": "python3"
  },
  "language_info": {
   "codemirror_mode": {
    "name": "ipython",
    "version": 3
   },
   "file_extension": ".py",
   "mimetype": "text/x-python",
   "name": "python",
   "nbconvert_exporter": "python",
   "pygments_lexer": "ipython3",
   "version": "3.6.4"
  }
 },
 "nbformat": 4,
 "nbformat_minor": 2
}
